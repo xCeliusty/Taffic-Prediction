{
 "cells": [
  {
   "cell_type": "code",
   "execution_count": 3,
   "id": "37a40adc",
   "metadata": {},
   "outputs": [
    {
     "name": "stdout",
     "output_type": "stream",
     "text": [
      "(4523043, 9)\n",
      "(365, 5)\n"
     ]
    }
   ],
   "source": [
    "import pandas as pd\n",
    "import math\n",
    "import datetime\n",
    "# Load DOW Data in 2019\n",
    "DOW_Data = pd.read_csv(r\".\\Outputs\\Prepared_data\\week_prepared_dataset.csv\")\n",
    "DOW_Weather_Holiday = pd.read_excel(r\".\\Dataset\\Weather&Holiday\\Weather&Holiday_Data.xlsx\")\n",
    "print(DOW_Data.shape)\n",
    "print(DOW_Weather_Holiday.shape)"
   ]
  },
  {
   "cell_type": "code",
   "execution_count": 4,
   "id": "5a7ddbc7",
   "metadata": {},
   "outputs": [],
   "source": [
    "# Numbers of trips per day (NOTPD)\n",
    "import math\n",
    "NOTPD = math.floor((DOW_Data.shape[0]/365))\n",
    "#print(NOTPD)\n",
    "\n",
    "# Prepare date\n",
    "Date = datetime.datetime.strptime('2019-01-01', '%Y-%m-%d')\n",
    "# Increment date by 1 day\n",
    "# Iterator to fill the last points that cannot be divided anymore\n",
    "itr = 0\n",
    "# Create date, Weather, & Holiday column to be added to the dataset\n",
    "WeatherCol = []\n",
    "HolidayCol = []\n",
    "# Assigning date to date column\n",
    "for i in range(365):\n",
    "    for j in range(NOTPD):\n",
    "        WeatherCol.append(DOW_Weather_Holiday['Weather'][i])\n",
    "        HolidayCol.append(DOW_Weather_Holiday['Holiday'][i])\n",
    "        itr = itr + 1\n",
    "    Date = Date + datetime.timedelta(days=1)\n",
    "    \n",
    "# Continue filling the last rows\n",
    "while itr < DOW_Data.shape[0]:\n",
    "    WeatherCol.append(DOW_Weather_Holiday['Weather'][364])\n",
    "    HolidayCol.append(DOW_Weather_Holiday['Holiday'][364])\n",
    "    itr = itr + 1"
   ]
  },
  {
   "cell_type": "code",
   "execution_count": 5,
   "id": "0b191bc5",
   "metadata": {},
   "outputs": [],
   "source": [
    "# Creating new dataframe (new dataset)\n",
    "DataSet = DOW_Data\n",
    "DataSet['Weather'] = WeatherCol\n",
    "DataSet['Holiday'] = HolidayCol\n",
    "DataSet = DataSet.reindex(columns=['Date', 'lng_s', 'lat_s', 'lng_d', 'lat_d', 'dow', 'distance', 'Weather', 'Holiday', 'mean_travel_time', 'standard_deviation_travel_time'])\n",
    "DataSet.to_csv(r\".\\Outputs\\Prepared_data\\weather_holiday_prepared_dataset.csv\")"
   ]
  }
 ],
 "metadata": {
  "kernelspec": {
   "display_name": "Python 3 (ipykernel)",
   "language": "python",
   "name": "python3"
  },
  "language_info": {
   "codemirror_mode": {
    "name": "ipython",
    "version": 3
   },
   "file_extension": ".py",
   "mimetype": "text/x-python",
   "name": "python",
   "nbconvert_exporter": "python",
   "pygments_lexer": "ipython3",
   "version": "3.9.7"
  }
 },
 "nbformat": 4,
 "nbformat_minor": 5
}

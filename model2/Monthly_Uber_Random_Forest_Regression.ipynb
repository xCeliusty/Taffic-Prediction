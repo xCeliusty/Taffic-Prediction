{
 "cells": [
  {
   "cell_type": "code",
   "execution_count": 1,
   "metadata": {
    "colab": {
     "base_uri": "https://localhost:8080/"
    },
    "executionInfo": {
     "elapsed": 31934,
     "status": "ok",
     "timestamp": 1653245017459,
     "user": {
      "displayName": "Mohamed Zoair",
      "userId": "05566466306427024977"
     },
     "user_tz": -120
    },
    "id": "81BE03F3SHjw",
    "outputId": "aa88ce14-4ec7-417e-80cd-7b4c62044142"
   },
   "outputs": [
    {
     "name": "stdout",
     "output_type": "stream",
     "text": [
      "Data:\n",
      "Data shape is:  (1966163, 8)\n",
      "Data columns are:  Index(['lng_s', 'lat_s', 'lng_d', 'lat_d', 'month', 'distance',\n",
      "       'mean_travel_time', 'standard_deviation_travel_time'],\n",
      "      dtype='object')\n",
      "\n",
      "Training labels Matrix:\n",
      "Training labels shape is:  (1769546, 1)\n",
      "Training labels columns are:  Index(['mean_travel_time'], dtype='object')\n",
      "\n",
      "Training features Matrix:\n",
      "Training features shape is:  (1769546, 6)\n",
      "Training features columns are:  Index(['lng_s', 'lat_s', 'lng_d', 'lat_d', 'month', 'distance'], dtype='object')\n",
      "\n",
      "Training labels margin Matrix:\n",
      "Training labels margin shape is:  (1769546, 1)\n",
      "Training labels margin columns are:  Index(['standard_deviation_travel_time'], dtype='object')\n",
      "\n",
      "Testing labels Matrix:\n",
      "Testing labels shape is:  (196617, 1)\n",
      "Testing labels columns are:  Index(['mean_travel_time'], dtype='object')\n",
      "\n",
      "Testing features Matrix:\n",
      "Testing features shape is:  (196617, 6)\n",
      "Testing features columns are:  Index(['lng_s', 'lat_s', 'lng_d', 'lat_d', 'month', 'distance'], dtype='object')\n",
      "Testing labels margin Matrix:\n",
      "Testing labels margin shape is:  (196617, 1)\n",
      "Testing labels margin columns are:  Index(['standard_deviation_travel_time'], dtype='object')\n"
     ]
    }
   ],
   "source": [
    "import pandas as pd\n",
    "import glob\n",
    "import os\n",
    "import numpy as np\n",
    "# Using Skicit-learn to split data into training and testing sets\n",
    "from sklearn.model_selection import train_test_split\n",
    "\n",
    "# Reading data-set\n",
    "# for Google CoLab\n",
    "#from google.colab import drive\n",
    "#drive.mount('/Dataset/')\n",
    "#filename = r\"/Dataset/MyDrive/Dataset/Uber_Dataset/prepared_data-set/month_prepared_dataset.csv\"\n",
    "filename = r\".\\Outputs\\Prepared_data\\month_prepared_dataset.csv\"\n",
    "################################################################################\n",
    "# Reading data-set CSV file\n",
    "data = pd.read_csv(filename, index_col=None, header=0)\n",
    "del data[\"Unnamed: 0\"]\n",
    "data = data.reindex(columns=['lng_s', 'lat_s', 'lng_d', 'lat_d', 'month', 'distance', 'mean_travel_time', 'standard_deviation_travel_time'])\n",
    "# Truncate Data\n",
    "#data = data.truncate(before = 0, after = 499999)\n",
    "\n",
    "# Labels are the values we want to predict\n",
    "labels = data.filter(['mean_travel_time', 'standard_deviation_travel_time'], axis=1)\n",
    "# Remove the labels from the features\n",
    "features = data.filter(['lng_s', 'lat_s', 'lng_d', 'lat_d', 'month', 'distance'], axis=1)\n",
    "\n",
    "# Split the data into training and testing sets\n",
    "train_features, test_features, train_labels, test_labels = train_test_split(features, labels, test_size = 0.1, random_state = 0)\n",
    "\n",
    "train_labels_margin = train_labels.filter(['standard_deviation_travel_time'], axis=1)\n",
    "train_labels = train_labels.filter(['mean_travel_time'], axis=1)\n",
    "test_labels_margin = test_labels.filter(['standard_deviation_travel_time'], axis=1)\n",
    "test_labels = test_labels.filter(['mean_travel_time'], axis=1)\n",
    "\n",
    "# Printing data-frame info\n",
    "print(\"Data:\")\n",
    "print(\"Data shape is: \", data.shape)\n",
    "print(\"Data columns are: \", data.columns)\n",
    "#print(\"Data types are: \", data.dtypes)\n",
    "print()\n",
    "\n",
    "# Training labels matrix\n",
    "print(\"Training labels Matrix:\")\n",
    "print(\"Training labels shape is: \", train_labels.shape)\n",
    "print(\"Training labels columns are: \", train_labels.columns)\n",
    "print()\n",
    "\n",
    "# Training features matrix\n",
    "print(\"Training features Matrix:\")\n",
    "print(\"Training features shape is: \", train_features.shape)\n",
    "print(\"Training features columns are: \", train_features.columns)\n",
    "print()\n",
    "\n",
    "# Train labels margin matrix\n",
    "print(\"Training labels margin Matrix:\")\n",
    "print(\"Training labels margin shape is: \", train_labels_margin.shape)\n",
    "print(\"Training labels margin columns are: \", train_labels_margin.columns)\n",
    "print()\n",
    "\n",
    "# Testing labels matrix\n",
    "print(\"Testing labels Matrix:\")\n",
    "print(\"Testing labels shape is: \", test_labels.shape)\n",
    "print(\"Testing labels columns are: \", test_labels.columns)\n",
    "print()\n",
    "\n",
    "# Testing features matrix\n",
    "print(\"Testing features Matrix:\")\n",
    "print(\"Testing features shape is: \", test_features.shape)\n",
    "print(\"Testing features columns are: \", test_features.columns)\n",
    "\n",
    "# Testing labels margin matrix\n",
    "print(\"Testing labels margin Matrix:\")\n",
    "print(\"Testing labels margin shape is: \", test_labels_margin.shape)\n",
    "print(\"Testing labels margin columns are: \", test_labels_margin.columns)"
   ]
  },
  {
   "cell_type": "code",
   "execution_count": 2,
   "metadata": {
    "colab": {
     "base_uri": "https://localhost:8080/"
    },
    "executionInfo": {
     "elapsed": 218876,
     "status": "ok",
     "timestamp": 1653246572700,
     "user": {
      "displayName": "Mohamed Zoair",
      "userId": "05566466306427024977"
     },
     "user_tz": -120
    },
    "id": "U5ZlBNsZSO_2",
    "outputId": "98eb1a6d-2b78-4c6c-e209-9aa9a471dc20"
   },
   "outputs": [
    {
     "name": "stdout",
     "output_type": "stream",
     "text": [
      "Training time is: 939.37 seconds.\n"
     ]
    }
   ],
   "source": [
    "# random forest for making predictions for regression\n",
    "from sklearn.ensemble import RandomForestRegressor\n",
    "import time\n",
    "T = time.time()\n",
    "#model = RandomForestRegressor(n_estimators = 100, random_state=0, oob_score=True)\n",
    "model = RandomForestRegressor(n_estimators = 100, random_state=0)\n",
    "# fit the model on the whole dataset\n",
    "model.fit(train_features, train_labels.values.ravel())\n",
    "print(\"Training time is: \" + str(round(time.time() - T, 2)) + \" seconds.\")"
   ]
  },
  {
   "cell_type": "code",
   "execution_count": 3,
   "metadata": {},
   "outputs": [
    {
     "name": "stdout",
     "output_type": "stream",
     "text": [
      "Accuracy: 98.63725268034858%\n"
     ]
    }
   ],
   "source": [
    "from sklearn.metrics import r2_score\n",
    "# Use the forest's predict method on the test data\n",
    "predictions = model.predict(test_features)\n",
    "\n",
    "# Same Error Function\n",
    "#print(\"Accuracy: \" + str(model.score(test_features, test_labels.values)*100) + \"%\")\n",
    "print(\"Accuracy: \" + str(r2_score(test_labels, predictions) * 100) + \"%\")"
   ]
  },
  {
   "cell_type": "code",
   "execution_count": 2,
   "metadata": {},
   "outputs": [
    {
     "ename": "NameError",
     "evalue": "name 'model' is not defined",
     "output_type": "error",
     "traceback": [
      "\u001b[1;31m---------------------------------------------------------------------------\u001b[0m",
      "\u001b[1;31mNameError\u001b[0m                                 Traceback (most recent call last)",
      "\u001b[1;32m~\\AppData\\Local\\Temp/ipykernel_10400/2823702538.py\u001b[0m in \u001b[0;36m<module>\u001b[1;34m\u001b[0m\n\u001b[0;32m      1\u001b[0m \u001b[1;32mimport\u001b[0m \u001b[0mjoblib\u001b[0m\u001b[1;33m\u001b[0m\u001b[1;33m\u001b[0m\u001b[0m\n\u001b[1;32m----> 2\u001b[1;33m \u001b[0mjoblib\u001b[0m\u001b[1;33m.\u001b[0m\u001b[0mdump\u001b[0m\u001b[1;33m(\u001b[0m\u001b[0mmodel\u001b[0m\u001b[1;33m,\u001b[0m \u001b[1;34mr\".\\Weights\\Monthly\\Monthly_Trained.joblib\"\u001b[0m\u001b[1;33m,\u001b[0m \u001b[0mcompress\u001b[0m\u001b[1;33m=\u001b[0m\u001b[1;36m3\u001b[0m\u001b[1;33m)\u001b[0m\u001b[1;33m\u001b[0m\u001b[1;33m\u001b[0m\u001b[0m\n\u001b[0m\u001b[0;32m      3\u001b[0m \u001b[1;31m#joblib.dump(model, \"Monthly_Trained.joblib\", compress=3)\u001b[0m\u001b[1;33m\u001b[0m\u001b[1;33m\u001b[0m\u001b[0m\n\u001b[0;32m      4\u001b[0m \u001b[1;31m#!cp Monthly_Trained.joblib \"/Dataset/MyDrive/Dataset/Uber_Dataset/Trained_Model/Monthly_Trained.joblib\"\u001b[0m\u001b[1;33m\u001b[0m\u001b[1;33m\u001b[0m\u001b[0m\n",
      "\u001b[1;31mNameError\u001b[0m: name 'model' is not defined"
     ]
    }
   ],
   "source": [
    "import joblib\n",
    "joblib.dump(model, r\".\\Weights\\Monthly\\Monthly_Trained.joblib\", compress=3)\n",
    "#joblib.dump(model, \"Monthly_Trained.joblib\", compress=3)\n",
    "#!cp Monthly_Trained.joblib \"/Dataset/MyDrive/Dataset/Uber_Dataset/Trained_Model/Monthly_Trained.joblib\""
   ]
  },
  {
   "cell_type": "code",
   "execution_count": 3,
   "metadata": {},
   "outputs": [
    {
     "name": "stdout",
     "output_type": "stream",
     "text": [
      "Training time for Standard Deviation is: 1305.95 seconds.\n"
     ]
    }
   ],
   "source": [
    "# random forest for making predictions for regression\n",
    "from sklearn.ensemble import RandomForestRegressor\n",
    "import time\n",
    "# Training Standard Deviation Time\n",
    "T = time.time()\n",
    "# define the model\n",
    "#model = RandomForestRegressor(n_estimators = 100, random_state=0, oob_score=True)\n",
    "model_SD = RandomForestRegressor(n_estimators = 100, random_state=0)\n",
    "# fit the model on the whole dataset\n",
    "model_SD.fit(train_features, train_labels_margin.values.ravel())\n",
    "print(\"Training time for Standard Deviation is: \" + str(round(time.time() - T, 2)) + \" seconds.\")"
   ]
  },
  {
   "cell_type": "code",
   "execution_count": 4,
   "metadata": {
    "colab": {
     "base_uri": "https://localhost:8080/"
    },
    "executionInfo": {
     "elapsed": 5131,
     "status": "ok",
     "timestamp": 1653246620719,
     "user": {
      "displayName": "Mohamed Zoair",
      "userId": "05566466306427024977"
     },
     "user_tz": -120
    },
    "id": "iJ9EjhNqXnP6",
    "outputId": "a08439af-8bfd-4e11-d735-f16fe76e4297"
   },
   "outputs": [
    {
     "name": "stdout",
     "output_type": "stream",
     "text": [
      "Accuracy: 85.77579372512567%\n"
     ]
    }
   ],
   "source": [
    "from sklearn.metrics import r2_score\n",
    "# Use the forest's predict method on the test data\n",
    "predictions_SD = model_SD.predict(test_features)\n",
    "\n",
    "# Same Error Function\n",
    "#print(\"Accuracy: \" + str(model.score(test_features, test_labels.values)*100) + \"%\")\n",
    "print(\"Accuracy: \" + str(r2_score(test_labels_margin, predictions_SD) * 100) + \"%\")"
   ]
  },
  {
   "cell_type": "code",
   "execution_count": 5,
   "metadata": {
    "executionInfo": {
     "elapsed": 127246,
     "status": "ok",
     "timestamp": 1653246751086,
     "user": {
      "displayName": "Mohamed Zoair",
      "userId": "05566466306427024977"
     },
     "user_tz": -120
    },
    "id": "S9dXr0dZFB1t"
   },
   "outputs": [
    {
     "data": {
      "text/plain": [
       "['.\\\\Weights\\\\Monthly\\\\Monthly_SD_Trained.joblib']"
      ]
     },
     "execution_count": 5,
     "metadata": {},
     "output_type": "execute_result"
    }
   ],
   "source": [
    "import joblib\n",
    "joblib.dump(model_SD, r\".\\Weights\\Monthly\\Monthly_SD_Trained.joblib\", compress=3)\n",
    "#joblib.dump(model, \"Monthly_SD__Trained.joblib\", compress=3)\n",
    "#!cp Monthly_SD__Trained.joblib \"/Dataset/MyDrive/Dataset/Uber_Dataset/Trained_Model/Monthly_SD_Trained.joblib\""
   ]
  }
 ],
 "metadata": {
  "colab": {
   "authorship_tag": "ABX9TyM9GRkN7P4cBSN/8cvgGaa5",
   "collapsed_sections": [],
   "name": "Monthly_Uber_Random_Forest_Regression.ipynb",
   "provenance": []
  },
  "kernelspec": {
   "display_name": "Python 3 (ipykernel)",
   "language": "python",
   "name": "python3"
  },
  "language_info": {
   "codemirror_mode": {
    "name": "ipython",
    "version": 3
   },
   "file_extension": ".py",
   "mimetype": "text/x-python",
   "name": "python",
   "nbconvert_exporter": "python",
   "pygments_lexer": "ipython3",
   "version": "3.9.7"
  }
 },
 "nbformat": 4,
 "nbformat_minor": 1
}

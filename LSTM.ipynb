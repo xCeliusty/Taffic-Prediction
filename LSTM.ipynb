{
 "cells": [
  {
   "cell_type": "code",
   "execution_count": 1,
   "metadata": {
    "id": "OpIv1oXTPuHX",
    "tags": []
   },
   "outputs": [],
   "source": [
    "import numpy as np\n",
    "import pandas as pd\n",
    "import matplotlib.pyplot as plt\n",
    "import datetime as dt\n",
    "from datetime import datetime\n",
    "\n",
    "from keras.callbacks import EarlyStopping, ReduceLROnPlateau, ModelCheckpoint, TensorBoard\n",
    "import os\n",
    "os.environ['CUDA_VISIBLE_DEVICES'] = '0'\n",
    "os.environ[\"SM_FRAMEWORK\"] = \"tf.keras\"\n",
    "%matplotlib inline"
   ]
  },
  {
   "cell_type": "code",
   "execution_count": 2,
   "metadata": {
    "colab": {
     "base_uri": "https://localhost:8080/"
    },
    "id": "fS5u_q1GPuHZ",
    "outputId": "fc19487d-2947-493d-b776-08f983917cf2",
    "tags": []
   },
   "outputs": [
    {
     "name": "stdout",
     "output_type": "stream",
     "text": [
      "Training set shape == (105, 9)\n",
      "All timestamps == 105\n",
      "Featured selected: ['CodedDay', 'Zone', 'Weather', 'Temperature', 'Rain', 'Holiday']\n"
     ]
    }
   ],
   "source": [
    "dataset_train = pd.read_excel('Dataset.xlsx')\n",
    "cols = list(dataset_train)[2:8]\n",
    "\n",
    "\n",
    "datelist_train = list(dataset_train['Date'])\n",
    "datelist_train = [dt.datetime.strptime(date, '%m/%d/%Y').date() for date in datelist_train]\n",
    "\n",
    "print('Training set shape == {}'.format(dataset_train.shape))\n",
    "print('All timestamps == {}'.format(len(datelist_train)))\n",
    "print('Featured selected: {}'.format(cols))"
   ]
  },
  {
   "cell_type": "code",
   "execution_count": 3,
   "metadata": {
    "colab": {
     "base_uri": "https://localhost:8080/"
    },
    "id": "LMWE_U1kPuHa",
    "outputId": "6a7bf733-c075-48b7-be00-ecce9415c7e4",
    "tags": []
   },
   "outputs": [
    {
     "name": "stdout",
     "output_type": "stream",
     "text": [
      "Shape of training set == (105, 6).\n",
      "[[ 7.   1.  17.2 12.6  1.   0. ]\n",
      " [ 7.   2.   8.   4.1  0.   0. ]\n",
      " [ 7.   3.   9.7  8.3  0.   0. ]\n",
      " [ 7.   4.  16.  12.4  1.   0. ]\n",
      " [ 7.   5.  16.  12.1  1.   0. ]\n",
      " [ 7.   6.  17.  13.   0.   0. ]\n",
      " [ 7.   7.  16.  12.3  0.   0. ]\n",
      " [ 1.   1.  18.  11.8  1.   0. ]\n",
      " [ 1.   2.   8.4  5.6  1.   0. ]\n",
      " [ 1.   3.  17.1 10.9  0.   0. ]\n",
      " [ 1.   4.  17.3 12.6  1.   0. ]\n",
      " [ 1.   5.  15.9 11.6  1.   0. ]\n",
      " [ 1.   6.  17.5 13.   0.   0. ]\n",
      " [ 1.   7.  16.5 11.5  1.   0. ]\n",
      " [ 2.   1.  19.6 12.6  0.   0. ]\n",
      " [ 2.   2.   7.2  5.2  1.   0. ]\n",
      " [ 2.   3.  18.2 12.4  0.   0. ]\n",
      " [ 2.   4.  18.8 13.4  0.   0. ]\n",
      " [ 2.   5.  17.7 12.9  0.   0. ]\n",
      " [ 2.   6.  19.2 14.2  0.   0. ]\n",
      " [ 2.   7.  17.7 12.2  0.   0. ]\n",
      " [ 3.   1.  21.2 12.8  0.   0. ]\n",
      " [ 3.   2.  10.6  6.   1.   0. ]\n",
      " [ 3.   3.  18.9 12.8  0.   0. ]\n",
      " [ 3.   4.  20.9 14.6  0.   0. ]\n",
      " [ 3.   5.  19.4 14.2  0.   0. ]\n",
      " [ 3.   6.  20.5 15.3  0.   0. ]\n",
      " [ 3.   7.  19.7 13.6  0.   0. ]\n",
      " [ 4.   1.  22.9 13.6  0.   0. ]\n",
      " [ 4.   2.  10.9  7.7  1.   0. ]\n",
      " [ 4.   3.  19.3 12.4  0.   0. ]\n",
      " [ 4.   4.  22.  15.2  0.   0. ]\n",
      " [ 4.   5.  20.6 15.2  0.   0. ]\n",
      " [ 4.   6.  22.4 16.   0.   0. ]\n",
      " [ 4.   7.  21.1 14.4  0.   0. ]\n",
      " [ 5.   1.  14.5 11.3  0.   0. ]\n",
      " [ 5.   2.  10.1  5.7  1.   0. ]\n",
      " [ 5.   3.  16.  11.6  0.   0. ]\n",
      " [ 5.   4.  15.3 12.5  1.   0. ]\n",
      " [ 5.   5.  15.3 12.2  1.   0. ]\n",
      " [ 5.   6.  15.3 13.   0.   0. ]\n",
      " [ 5.   7.  13.2 11.   0.   0. ]\n",
      " [ 6.   1.  17.6 11.5  1.   0. ]\n",
      " [ 6.   2.   5.2  2.7  0.   0. ]\n",
      " [ 6.   3.  18.3 11.9  0.   0. ]\n",
      " [ 6.   4.  16.5 12.   1.   0. ]\n",
      " [ 6.   5.  16.5 12.   1.   0. ]\n",
      " [ 6.   6.  16.2 12.3  1.   0. ]\n",
      " [ 6.   7.  16.2 11.5  0.   0. ]\n",
      " [ 7.   1.  18.  11.5  0.   0. ]\n",
      " [ 7.   2.   5.1  2.1  0.   0. ]\n",
      " [ 7.   3.  18.1 11.6  0.   0. ]\n",
      " [ 7.   4.  18.1 12.5  0.   0. ]\n",
      " [ 7.   5.  18.1 12.5  0.   0. ]\n",
      " [ 7.   6.  17.9 13.2  0.   0. ]\n",
      " [ 7.   7.  16.  12.5  0.   0. ]\n",
      " [ 1.   1.  21.8 12.3  0.   0. ]\n",
      " [ 1.   2.   5.9  2.3  1.   0. ]\n",
      " [ 1.   3.  19.8 13.   0.   0. ]\n",
      " [ 1.   4.  20.6 13.3  0.   0. ]\n",
      " [ 1.   5.  20.6 13.3  0.   0. ]\n",
      " [ 1.   6.  18.9 14.1  0.   0. ]\n",
      " [ 1.   7.  18.3 12.7  0.   0. ]\n",
      " [ 2.   1.  22.7 13.2  0.   0. ]\n",
      " [ 2.   2.   7.3  4.6  0.   0. ]\n",
      " [ 2.   3.  20.4 13.6  0.   0. ]\n",
      " [ 2.   4.  21.6 14.1  0.   0. ]\n",
      " [ 2.   5.  21.6 14.1  0.   0. ]\n",
      " [ 2.   6.  20.9 15.3  0.   0. ]\n",
      " [ 2.   7.  17.7 12.8  0.   0. ]\n",
      " [ 3.   1.  21.7 13.3  0.   0. ]\n",
      " [ 3.   2.   9.4  6.7  1.   0. ]\n",
      " [ 3.   3.  20.7 14.2  0.   0. ]\n",
      " [ 3.   4.  20.9 14.2  0.   0. ]\n",
      " [ 3.   5.  20.9 14.2  0.   0. ]\n",
      " [ 3.   6.  19.4 14.9  0.   0. ]\n",
      " [ 3.   7.  17.9 13.7  0.   0. ]\n",
      " [ 4.   1.  21.9 13.7  0.   0. ]\n",
      " [ 4.   2.   7.7  5.5  0.   0. ]\n",
      " [ 4.   3.  21.8 14.7  0.   0. ]\n",
      " [ 4.   4.  21.4 15.4  0.   0. ]\n",
      " [ 4.   5.  21.4 15.4  0.   0. ]\n",
      " [ 4.   6.  19.6 15.9  0.   0. ]\n",
      " [ 4.   7.  18.6 14.7  0.   0. ]\n",
      " [ 5.   1.  17.7 12.6  1.   0. ]\n",
      " [ 5.   2.   8.6  6.4  0.   0. ]\n",
      " [ 5.   3.  22.6 15.6  0.   0. ]\n",
      " [ 5.   4.  19.9 14.3  0.   0. ]\n",
      " [ 5.   5.  19.9 14.3  0.   0. ]\n",
      " [ 5.   6.  18.4 15.1  0.   0. ]\n",
      " [ 5.   7.  17.4 13.6  0.   0. ]\n",
      " [ 6.   1.  18.6 11.4  0.   0. ]\n",
      " [ 6.   2.  10.4  7.9  0.   0. ]\n",
      " [ 6.   3.  21.9 15.4  0.   0. ]\n",
      " [ 6.   4.  19.9 13.2  0.   0. ]\n",
      " [ 6.   5.  19.9 13.2  0.   0. ]\n",
      " [ 6.   6.  19.2 13.8  0.   0. ]\n",
      " [ 6.   7.  17.8 12.8  0.   0. ]\n",
      " [ 7.   1.  14.8 10.2  1.   0. ]\n",
      " [ 7.   2.   7.2  5.7  1.   0. ]\n",
      " [ 7.   3.  22.5 15.7  0.   0. ]\n",
      " [ 7.   4.  14.  11.4  1.   0. ]\n",
      " [ 7.   5.  14.  11.4  1.   0. ]\n",
      " [ 7.   6.  14.9 11.7  0.   0. ]\n",
      " [ 7.   7.  14.6 11.   1.   0. ]]\n"
     ]
    }
   ],
   "source": [
    "dataset_train = dataset_train[cols].astype(str)\n",
    "for i in cols:\n",
    "    for j in range(0, len(dataset_train)):\n",
    "        dataset_train[i][j] = dataset_train[i][j].replace(',', '')\n",
    "\n",
    "dataset_train = dataset_train.astype(float)\n",
    "\n",
    "training_set = dataset_train.values\n",
    "\n",
    "print('Shape of training set == {}.'.format(training_set.shape))\n",
    "print(training_set)"
   ]
  },
  {
   "cell_type": "code",
   "execution_count": 4,
   "metadata": {
    "colab": {
     "base_uri": "https://localhost:8080/"
    },
    "id": "Omy57suSPuHb",
    "outputId": "b184b96b-b639-49fb-f93b-080ff4f8ccde",
    "tags": []
   },
   "outputs": [
    {
     "data": {
      "text/plain": [
       "array([[ 1.35132785],\n",
       "       [ 1.35132785],\n",
       "       [ 1.35132785],\n",
       "       [ 1.35132785],\n",
       "       [ 1.35132785],\n",
       "       [ 1.35132785],\n",
       "       [ 1.35132785],\n",
       "       [-1.54437469],\n",
       "       [-1.54437469],\n",
       "       [-1.54437469],\n",
       "       [-1.54437469],\n",
       "       [-1.54437469],\n",
       "       [-1.54437469],\n",
       "       [-1.54437469],\n",
       "       [-1.0617576 ],\n",
       "       [-1.0617576 ],\n",
       "       [-1.0617576 ],\n",
       "       [-1.0617576 ],\n",
       "       [-1.0617576 ],\n",
       "       [-1.0617576 ],\n",
       "       [-1.0617576 ],\n",
       "       [-0.57914051],\n",
       "       [-0.57914051],\n",
       "       [-0.57914051],\n",
       "       [-0.57914051],\n",
       "       [-0.57914051],\n",
       "       [-0.57914051],\n",
       "       [-0.57914051],\n",
       "       [-0.09652342],\n",
       "       [-0.09652342],\n",
       "       [-0.09652342],\n",
       "       [-0.09652342],\n",
       "       [-0.09652342],\n",
       "       [-0.09652342],\n",
       "       [-0.09652342],\n",
       "       [ 0.38609367],\n",
       "       [ 0.38609367],\n",
       "       [ 0.38609367],\n",
       "       [ 0.38609367],\n",
       "       [ 0.38609367],\n",
       "       [ 0.38609367],\n",
       "       [ 0.38609367],\n",
       "       [ 0.86871076],\n",
       "       [ 0.86871076],\n",
       "       [ 0.86871076],\n",
       "       [ 0.86871076],\n",
       "       [ 0.86871076],\n",
       "       [ 0.86871076],\n",
       "       [ 0.86871076],\n",
       "       [ 1.35132785],\n",
       "       [ 1.35132785],\n",
       "       [ 1.35132785],\n",
       "       [ 1.35132785],\n",
       "       [ 1.35132785],\n",
       "       [ 1.35132785],\n",
       "       [ 1.35132785],\n",
       "       [-1.54437469],\n",
       "       [-1.54437469],\n",
       "       [-1.54437469],\n",
       "       [-1.54437469],\n",
       "       [-1.54437469],\n",
       "       [-1.54437469],\n",
       "       [-1.54437469],\n",
       "       [-1.0617576 ],\n",
       "       [-1.0617576 ],\n",
       "       [-1.0617576 ],\n",
       "       [-1.0617576 ],\n",
       "       [-1.0617576 ],\n",
       "       [-1.0617576 ],\n",
       "       [-1.0617576 ],\n",
       "       [-0.57914051],\n",
       "       [-0.57914051],\n",
       "       [-0.57914051],\n",
       "       [-0.57914051],\n",
       "       [-0.57914051],\n",
       "       [-0.57914051],\n",
       "       [-0.57914051],\n",
       "       [-0.09652342],\n",
       "       [-0.09652342],\n",
       "       [-0.09652342],\n",
       "       [-0.09652342],\n",
       "       [-0.09652342],\n",
       "       [-0.09652342],\n",
       "       [-0.09652342],\n",
       "       [ 0.38609367],\n",
       "       [ 0.38609367],\n",
       "       [ 0.38609367],\n",
       "       [ 0.38609367],\n",
       "       [ 0.38609367],\n",
       "       [ 0.38609367],\n",
       "       [ 0.38609367],\n",
       "       [ 0.86871076],\n",
       "       [ 0.86871076],\n",
       "       [ 0.86871076],\n",
       "       [ 0.86871076],\n",
       "       [ 0.86871076],\n",
       "       [ 0.86871076],\n",
       "       [ 0.86871076],\n",
       "       [ 1.35132785],\n",
       "       [ 1.35132785],\n",
       "       [ 1.35132785],\n",
       "       [ 1.35132785],\n",
       "       [ 1.35132785],\n",
       "       [ 1.35132785],\n",
       "       [ 1.35132785]])"
      ]
     },
     "execution_count": 4,
     "metadata": {},
     "output_type": "execute_result"
    }
   ],
   "source": [
    "from sklearn.preprocessing import StandardScaler\n",
    "\n",
    "\n",
    "sc = StandardScaler()\n",
    "training_set_scaled = sc.fit_transform(training_set)\n",
    "\n",
    "sc_predict = StandardScaler()\n",
    "sc_predict.fit_transform(training_set[:, 0:1])"
   ]
  },
  {
   "cell_type": "code",
   "execution_count": 5,
   "metadata": {
    "colab": {
     "base_uri": "https://localhost:8080/"
    },
    "id": "MSz7L3w9PuHc",
    "outputId": "4c6269ff-5ebb-44c9-93a3-cb756c95c5db",
    "tags": []
   },
   "outputs": [
    {
     "name": "stdout",
     "output_type": "stream",
     "text": [
      "105\n",
      "X_train shape == (91, 12, 5).\n",
      "y_train shape == (91, 1).\n"
     ]
    }
   ],
   "source": [
    "X_train = []\n",
    "y_train = []\n",
    "\n",
    "# 4 is the new number of days, 7 is the number of zones\n",
    "n_future = 3\n",
    "n_past = 12\n",
    "\n",
    "print(len(training_set_scaled))\n",
    "\n",
    "for i in range(n_past, len(training_set_scaled) - n_future +1):\n",
    "    X_train.append(training_set_scaled[i - n_past:i, 0:dataset_train.shape[1] - 1])\n",
    "    y_train.append(training_set_scaled[i + n_future - 1:i + n_future, 0])\n",
    "\n",
    "X_train, y_train = np.array(X_train), np.array(y_train)\n",
    "\n",
    "print('X_train shape == {}.'.format(X_train.shape))\n",
    "print('y_train shape == {}.'.format(y_train.shape))"
   ]
  },
  {
   "cell_type": "code",
   "execution_count": 6,
   "metadata": {
    "id": "ueWD6REoPuHd"
   },
   "outputs": [],
   "source": [
    "from keras.models import Sequential\n",
    "from keras.layers import Dense\n",
    "from keras.layers import LSTM\n",
    "from keras.layers import Dropout\n",
    "from tensorflow.keras.optimizers import Adam"
   ]
  },
  {
   "cell_type": "code",
   "execution_count": 7,
   "metadata": {
    "id": "wLJOpoeqPuHe",
    "tags": []
   },
   "outputs": [],
   "source": [
    "model = Sequential()\n",
    "\n",
    "model.add(LSTM(units=64, return_sequences=True, input_shape=(n_past, dataset_train.shape[1]-1)))\n",
    "\n",
    "model.add(LSTM(units=10, return_sequences=False))\n",
    "\n",
    "model.add(Dropout(0.25))\n",
    "\n",
    "model.add(Dense(units=1, activation='linear'))\n",
    "\n",
    "model.compile(optimizer = Adam(learning_rate=0.01), loss='mean_squared_error')"
   ]
  },
  {
   "cell_type": "code",
   "execution_count": 8,
   "metadata": {
    "colab": {
     "base_uri": "https://localhost:8080/"
    },
    "id": "q0-wm59jPuHf",
    "outputId": "5ff407b8-aed0-426e-c534-1b63c3696a11",
    "tags": []
   },
   "outputs": [
    {
     "name": "stdout",
     "output_type": "stream",
     "text": [
      "Epoch 1/30\n",
      "1/1 [==============================] - ETA: 0s - loss: 0.7538\n",
      "Epoch 1: val_loss improved from inf to 0.83830, saving model to weights.h5\n",
      "1/1 [==============================] - 4s 4s/step - loss: 0.7538 - val_loss: 0.8383 - lr: 0.0100\n",
      "Epoch 2/30\n",
      "1/1 [==============================] - ETA: 0s - loss: 0.5947\n",
      "Epoch 2: val_loss improved from 0.83830 to 0.77158, saving model to weights.h5\n",
      "1/1 [==============================] - 0s 100ms/step - loss: 0.5947 - val_loss: 0.7716 - lr: 0.0100\n",
      "Epoch 3/30\n",
      "1/1 [==============================] - ETA: 0s - loss: 0.4388\n",
      "Epoch 3: val_loss improved from 0.77158 to 0.73154, saving model to weights.h5\n",
      "1/1 [==============================] - 0s 108ms/step - loss: 0.4388 - val_loss: 0.7315 - lr: 0.0100\n",
      "Epoch 4/30\n",
      "1/1 [==============================] - ETA: 0s - loss: 0.3566\n",
      "Epoch 4: val_loss improved from 0.73154 to 0.66618, saving model to weights.h5\n",
      "1/1 [==============================] - 0s 92ms/step - loss: 0.3566 - val_loss: 0.6662 - lr: 0.0100\n",
      "Epoch 5/30\n",
      "1/1 [==============================] - ETA: 0s - loss: 0.2746\n",
      "Epoch 5: val_loss improved from 0.66618 to 0.57023, saving model to weights.h5\n",
      "1/1 [==============================] - 0s 99ms/step - loss: 0.2746 - val_loss: 0.5702 - lr: 0.0100\n",
      "Epoch 6/30\n",
      "1/1 [==============================] - ETA: 0s - loss: 0.2765\n",
      "Epoch 6: val_loss did not improve from 0.57023\n",
      "1/1 [==============================] - 0s 67ms/step - loss: 0.2765 - val_loss: 0.8110 - lr: 0.0100\n",
      "Epoch 7/30\n",
      "1/1 [==============================] - ETA: 0s - loss: 0.1869\n",
      "Epoch 7: val_loss did not improve from 0.57023\n",
      "1/1 [==============================] - 0s 86ms/step - loss: 0.1869 - val_loss: 1.0771 - lr: 0.0100\n",
      "Epoch 8/30\n",
      "1/1 [==============================] - ETA: 0s - loss: 0.1368\n",
      "Epoch 8: val_loss did not improve from 0.57023\n",
      "1/1 [==============================] - 0s 65ms/step - loss: 0.1368 - val_loss: 1.3532 - lr: 0.0100\n",
      "Epoch 9/30\n",
      "1/1 [==============================] - ETA: 0s - loss: 0.1122\n",
      "Epoch 9: val_loss did not improve from 0.57023\n",
      "1/1 [==============================] - 0s 70ms/step - loss: 0.1122 - val_loss: 1.5686 - lr: 0.0100\n",
      "Epoch 10/30\n",
      "1/1 [==============================] - ETA: 0s - loss: 0.1452\n",
      "Epoch 10: val_loss did not improve from 0.57023\n",
      "1/1 [==============================] - 0s 82ms/step - loss: 0.1452 - val_loss: 1.7019 - lr: 0.0100\n",
      "Epoch 11/30\n",
      "1/1 [==============================] - ETA: 0s - loss: 0.1369\n",
      "Epoch 11: val_loss did not improve from 0.57023\n",
      "1/1 [==============================] - 0s 74ms/step - loss: 0.1369 - val_loss: 1.8039 - lr: 0.0100\n",
      "Epoch 12/30\n",
      "1/1 [==============================] - ETA: 0s - loss: 0.1701\n",
      "Epoch 12: val_loss did not improve from 0.57023\n",
      "1/1 [==============================] - 0s 88ms/step - loss: 0.1701 - val_loss: 1.8033 - lr: 0.0100\n",
      "Epoch 13/30\n",
      "1/1 [==============================] - ETA: 0s - loss: 0.0959\n",
      "Epoch 13: val_loss did not improve from 0.57023\n",
      "1/1 [==============================] - 0s 73ms/step - loss: 0.0959 - val_loss: 1.7079 - lr: 0.0100\n",
      "Epoch 14/30\n",
      "1/1 [==============================] - ETA: 0s - loss: 0.1204\n",
      "Epoch 14: val_loss did not improve from 0.57023\n",
      "1/1 [==============================] - 0s 73ms/step - loss: 0.1204 - val_loss: 1.6592 - lr: 0.0100\n",
      "Epoch 15/30\n",
      "1/1 [==============================] - ETA: 0s - loss: 0.1478\n",
      "Epoch 15: ReduceLROnPlateau reducing learning rate to 0.004999999888241291.\n",
      "\n",
      "Epoch 15: val_loss did not improve from 0.57023\n",
      "1/1 [==============================] - 0s 73ms/step - loss: 0.1478 - val_loss: 1.6392 - lr: 0.0100\n",
      "Epoch 15: early stopping\n",
      "Wall time: 5.83 s\n"
     ]
    }
   ],
   "source": [
    "%%time\n",
    "es = EarlyStopping(monitor='val_loss', min_delta=1e-10, patience=10, verbose=1)\n",
    "rlr = ReduceLROnPlateau(monitor='val_loss', factor=0.5, patience=10, verbose=1)\n",
    "mcp = ModelCheckpoint(filepath='weights.h5', monitor='val_loss', verbose=1, save_best_only=True, save_weights_only=True)\n",
    "\n",
    "tb = TensorBoard('logs')\n",
    "\n",
    "history = model.fit(X_train, y_train, shuffle=True, epochs=30, callbacks=[es, rlr, mcp, tb], validation_split=0.2, verbose=1, batch_size=256)"
   ]
  },
  {
   "cell_type": "code",
   "execution_count": 9,
   "metadata": {
    "id": "Xl-slFU_PuHf"
   },
   "outputs": [],
   "source": [
    "datelist_future = pd.date_range(datelist_train[-1], periods=n_future, freq='1d').tolist()\n",
    "\n",
    "datelist_future_ = []\n",
    "for this_timestamp in datelist_future:\n",
    "    datelist_future_.append(this_timestamp.date())"
   ]
  },
  {
   "cell_type": "code",
   "execution_count": 10,
   "metadata": {
    "id": "5UWx5qQbPuHg",
    "tags": []
   },
   "outputs": [],
   "source": [
    "predictions_future = model.predict(X_train[-n_future:])\n",
    "\n",
    "predictions_train = model.predict(X_train[n_past:])"
   ]
  },
  {
   "cell_type": "code",
   "execution_count": 11,
   "metadata": {
    "colab": {
     "base_uri": "https://localhost:8080/",
     "height": 143
    },
    "id": "-nzizFOLPuHg",
    "outputId": "fb5676ab-8e20-4a41-b073-fb7b2d9f90d1",
    "tags": []
   },
   "outputs": [
    {
     "data": {
      "text/html": [
       "<div>\n",
       "<style scoped>\n",
       "    .dataframe tbody tr th:only-of-type {\n",
       "        vertical-align: middle;\n",
       "    }\n",
       "\n",
       "    .dataframe tbody tr th {\n",
       "        vertical-align: top;\n",
       "    }\n",
       "\n",
       "    .dataframe thead th {\n",
       "        text-align: right;\n",
       "    }\n",
       "</style>\n",
       "<table border=\"1\" class=\"dataframe\">\n",
       "  <thead>\n",
       "    <tr style=\"text-align: right;\">\n",
       "      <th></th>\n",
       "      <th>Date</th>\n",
       "    </tr>\n",
       "  </thead>\n",
       "  <tbody>\n",
       "    <tr>\n",
       "      <th>2022-02-07</th>\n",
       "      <td>3.282530</td>\n",
       "    </tr>\n",
       "    <tr>\n",
       "      <th>2022-02-07</th>\n",
       "      <td>3.533049</td>\n",
       "    </tr>\n",
       "    <tr>\n",
       "      <th>2022-02-08</th>\n",
       "      <td>3.813325</td>\n",
       "    </tr>\n",
       "  </tbody>\n",
       "</table>\n",
       "</div>"
      ],
      "text/plain": [
       "                Date\n",
       "2022-02-07  3.282530\n",
       "2022-02-07  3.533049\n",
       "2022-02-08  3.813325"
      ]
     },
     "execution_count": 11,
     "metadata": {},
     "output_type": "execute_result"
    }
   ],
   "source": [
    "def datetime_to_timestamp(x):\n",
    "\n",
    "    return datetime.strptime(x.strftime('%d%m%Y'), '%d%m%Y')\n",
    "\n",
    "\n",
    "y_pred_future = sc_predict.inverse_transform(predictions_future)\n",
    "y_pred_train = sc_predict.inverse_transform(predictions_train)\n",
    "\n",
    "PREDICTIONS_FUTURE = pd.DataFrame(y_pred_future, columns=['Date']).set_index(pd.Series(datelist_future))\n",
    "PREDICTION_TRAIN = pd.DataFrame(y_pred_train, columns=['Date']).set_index(pd.Series(datelist_train[2 * n_past + n_future -1:]))\n",
    "\n",
    "PREDICTION_TRAIN.index = PREDICTION_TRAIN.index.to_series().apply(datetime_to_timestamp)\n",
    "\n",
    "PREDICTION_TRAIN.head(3)"
   ]
  },
  {
   "cell_type": "code",
   "execution_count": 16,
   "metadata": {
    "colab": {
     "base_uri": "https://localhost:8080/",
     "height": 379
    },
    "id": "pjmm_y3CPuHh",
    "outputId": "6f5ade93-7838-431b-fe26-237e472cc43f"
   },
   "outputs": [
    {
     "data": {
      "image/png": "[encoded data removed]",
      "text/plain": [
       "<Figure size 1008x504 with 1 Axes>"
      ]
     },
     "metadata": {
      "needs_background": "light"
     },
     "output_type": "display_data"
    }
   ],
   "source": [
    "from pylab import rcParams\n",
    "rcParams['figure.figsize'] = 14, 7\n",
    "\n",
    "START_DATE_FOR_PLOTTING = '2022-02-01'\n",
    "\n",
    "plt.plot(PREDICTIONS_FUTURE.index, PREDICTIONS_FUTURE['Date'], color='r', label='Predicted Traffic')\n",
    "plt.plot(PREDICTION_TRAIN.loc[START_DATE_FOR_PLOTTING:].index, PREDICTION_TRAIN.loc[START_DATE_FOR_PLOTTING:]['Date'], color='orange', label='Training predictions')\n",
    "plt.plot(dataset_train.loc[START_DATE_FOR_PLOTTING:].index, dataset_train.loc[START_DATE_FOR_PLOTTING:]['CodedDay'], color='b', label='Actual Traffic')\n",
    "\n",
    "plt.axvline(x = min(PREDICTIONS_FUTURE.index), color='green', linewidth=2, linestyle='--')\n",
    "\n",
    "plt.grid(which='major', color='#cccccc', alpha=0.5)\n",
    "\n",
    "plt.legend(shadow=True)\n",
    "plt.title('Predcitions and Days', fontsize=12)\n",
    "plt.xlabel('Timeline', fontsize=10)\n",
    "plt.ylabel('Day', fontsize=10)\n",
    "plt.xticks(rotation=45, fontsize=8)\n",
    "plt.show()"
   ]
  },
  {
   "cell_type": "code",
   "execution_count": 13,
   "metadata": {
    "id": "IWlr30ShPuHh",
    "tags": []
   },
   "outputs": [],
   "source": [
    "dataset_train = pd.DataFrame(dataset_train, columns=cols)\n",
    "dataset_train.index = datelist_train\n",
    "dataset_train.index = pd.to_datetime(dataset_train.index)"
   ]
  },
  {
   "cell_type": "code",
   "execution_count": 17,
   "metadata": {},
   "outputs": [],
   "source": [
    "model.save('LSTM_model.h5')"
   ]
  }
 ],
 "metadata": {
  "colab": {
   "collapsed_sections": [],
   "name": "LSTM.ipynb",
   "provenance": []
  },
  "interpreter": {
   "hash": "ac59ebe37160ed0dfa835113d9b8498d9f09ceb179beaac4002f036b9467c963"
  },
  "kernelspec": {
   "display_name": "Python 3 (ipykernel)",
   "language": "python",
   "name": "python3"
  },
  "language_info": {
   "codemirror_mode": {
    "name": "ipython",
    "version": 3
   },
   "file_extension": ".py",
   "mimetype": "text/x-python",
   "name": "python",
   "nbconvert_exporter": "python",
   "pygments_lexer": "ipython3",
   "version": "3.9.7"
  }
 },
 "nbformat": 4,
 "nbformat_minor": 1
}
